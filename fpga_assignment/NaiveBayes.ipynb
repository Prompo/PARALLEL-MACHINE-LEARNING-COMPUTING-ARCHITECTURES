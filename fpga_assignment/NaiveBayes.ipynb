{
 "cells": [
  {
   "cell_type": "markdown",
   "metadata": {},
   "source": [
    "# FPGA Accelerated - Naive Bayes Classification"
   ]
  },
  {
   "cell_type": "markdown",
   "metadata": {},
   "source": [
    "#### In this notebook we are going to use the **InAccel modified GaussianNB** class to accelerate the algorithm's classification part. We will also use the **original scikit-learn implementation** to compute the overall **speedup** we get and compare any differences in the calculated predictions among the two runs. For the training and classification parts, we are going to create a custom dataset and further on adjust the number of **samples**, **features** and **classes** to inspect who speedup is affected."
   ]
  },
  {
   "cell_type": "markdown",
   "metadata": {},
   "source": [
    "### Import all necessary libraries"
   ]
  },
  {
   "cell_type": "code",
   "execution_count": 1,
   "metadata": {
    "execution": {
     "iopub.execute_input": "2024-07-09T12:57:48.683039Z",
     "iopub.status.busy": "2024-07-09T12:57:48.681879Z",
     "iopub.status.idle": "2024-07-09T12:57:49.357404Z",
     "shell.execute_reply": "2024-07-09T12:57:49.355625Z",
     "shell.execute_reply.started": "2024-07-09T12:57:48.682935Z"
    }
   },
   "outputs": [],
   "source": [
    "from inaccel.sklearn.naive_bayes import GaussianNB\n",
    "import numpy as np\n",
    "from sklearn import datasets\n",
    "from sklearn import metrics\n",
    "from time import time"
   ]
  },
  {
   "cell_type": "markdown",
   "metadata": {},
   "source": [
    "### Create a custom dataset with the defined number of samples, features and classes"
   ]
  },
  {
   "cell_type": "code",
   "execution_count": 2,
   "metadata": {
    "execution": {
     "iopub.execute_input": "2024-07-09T12:57:49.361174Z",
     "iopub.status.busy": "2024-07-09T12:57:49.360887Z",
     "iopub.status.idle": "2024-07-09T12:57:49.911464Z",
     "shell.execute_reply": "2024-07-09T12:57:49.910547Z",
     "shell.execute_reply.started": "2024-07-09T12:57:49.361120Z"
    }
   },
   "outputs": [],
   "source": [
    "samples = 10000\n",
    "features = 500\n",
    "classes = 10\n",
    "\n",
    "X, y = datasets.make_classification(n_samples = samples, n_features = features, n_informative = 400, n_redundant = 50,\n",
    "                                    n_repeated = 50, n_classes = classes, class_sep = 10.0, random_state = 0)"
   ]
  },
  {
   "cell_type": "markdown",
   "metadata": {},
   "source": [
    "### Use only **10%** of the generated samples for the training part and the rest for the classification"
   ]
  },
  {
   "cell_type": "code",
   "execution_count": 3,
   "metadata": {
    "execution": {
     "iopub.execute_input": "2024-07-09T12:57:49.912994Z",
     "iopub.status.busy": "2024-07-09T12:57:49.912788Z",
     "iopub.status.idle": "2024-07-09T12:57:49.920983Z",
     "shell.execute_reply": "2024-07-09T12:57:49.920120Z",
     "shell.execute_reply.started": "2024-07-09T12:57:49.912972Z"
    }
   },
   "outputs": [
    {
     "name": "stdout",
     "output_type": "stream",
     "text": [
      "Train data shape:\n",
      "\tLabels: (1000,)\n",
      "\tFeatures: (1000, 500)\n",
      "Test data shape:\n",
      "\tLabels: (9000,)\n",
      "\tFeatures: (9000, 500)\n"
     ]
    }
   ],
   "source": [
    "# Samples used for training the model\n",
    "train_samples = int(0.1 * samples)\n",
    "\n",
    "train_labels = y[:train_samples]\n",
    "train_features = X[:train_samples]\n",
    "print(\"Train data shape:\\n\\tLabels: \" + str(train_labels.shape) + \"\\n\\tFeatures: \" + str(train_features.shape))\n",
    "\n",
    "test_labels = y[train_samples:]\n",
    "test_features = X[train_samples:]\n",
    "print(\"Test data shape:\\n\\tLabels: \" + str(test_labels.shape) + \"\\n\\tFeatures: \" + str(test_features.shape))"
   ]
  },
  {
   "cell_type": "markdown",
   "metadata": {},
   "source": [
    "### Create a Naive Bayes object and **train** a model"
   ]
  },
  {
   "cell_type": "code",
   "execution_count": 4,
   "metadata": {
    "execution": {
     "iopub.execute_input": "2024-07-09T12:57:49.922994Z",
     "iopub.status.busy": "2024-07-09T12:57:49.922412Z",
     "iopub.status.idle": "2024-07-09T12:57:50.056793Z",
     "shell.execute_reply": "2024-07-09T12:57:50.055719Z",
     "shell.execute_reply.started": "2024-07-09T12:57:49.922955Z"
    }
   },
   "outputs": [
    {
     "name": "stdout",
     "output_type": "stream",
     "text": [
      "Naive Bayes training (CPU) took: 0.01 sec\n"
     ]
    }
   ],
   "source": [
    "nb = GaussianNB()\n",
    "\n",
    "startTime = time()\n",
    "nb_model = nb.fit(train_features, train_labels)\n",
    "elapsedTime = int((time() - startTime) * 100) / 100\n",
    "\n",
    "print(\"Naive Bayes training (CPU) took: \" + str(elapsedTime) + \" sec\")"
   ]
  },
  {
   "cell_type": "markdown",
   "metadata": {},
   "source": [
    "### Calculate the predictions using the FPGA resources"
   ]
  },
  {
   "cell_type": "code",
   "execution_count": 5,
   "metadata": {
    "execution": {
     "iopub.execute_input": "2024-07-09T12:57:50.059455Z",
     "iopub.status.busy": "2024-07-09T12:57:50.059202Z",
     "iopub.status.idle": "2024-07-09T12:57:50.219573Z",
     "shell.execute_reply": "2024-07-09T12:57:50.218385Z",
     "shell.execute_reply.started": "2024-07-09T12:57:50.059429Z"
    }
   },
   "outputs": [
    {
     "name": "stdout",
     "output_type": "stream",
     "text": [
      "Accuracy: 99.13%\n",
      "Naive Bayes classification (FPGA) took: 0.06 sec\n"
     ]
    }
   ],
   "source": [
    "startTime = time()\n",
    "predictions = nb_model.predict(test_features)\n",
    "elapsedTime = int((time() - startTime) * 100) / 100\n",
    "\n",
    "print(\"Accuracy: \" + str(int(metrics.accuracy_score(test_labels, predictions) * 10000) / 100) + \"%\")\n",
    "print(\"Naive Bayes classification (FPGA) took: \" + str(elapsedTime) + \" sec\")"
   ]
  },
  {
   "cell_type": "markdown",
   "metadata": {},
   "source": [
    "### Import the Original NaiveBayes class to compare the classification part execution time"
   ]
  },
  {
   "cell_type": "code",
   "execution_count": 6,
   "metadata": {
    "execution": {
     "iopub.execute_input": "2024-07-09T12:57:50.222057Z",
     "iopub.status.busy": "2024-07-09T12:57:50.221123Z",
     "iopub.status.idle": "2024-07-09T12:57:50.335108Z",
     "shell.execute_reply": "2024-07-09T12:57:50.333156Z",
     "shell.execute_reply.started": "2024-07-09T12:57:50.221993Z"
    }
   },
   "outputs": [],
   "source": [
    "from sklearn.naive_bayes import GaussianNB as OriginalNB\n",
    "\n",
    "cpuNB = OriginalNB()\n",
    "\n",
    "cpu_model = cpuNB.fit(train_features, train_labels)"
   ]
  },
  {
   "cell_type": "markdown",
   "metadata": {},
   "source": [
    "### Calculate the predictions using the CPU resources"
   ]
  },
  {
   "cell_type": "code",
   "execution_count": 7,
   "metadata": {
    "execution": {
     "iopub.execute_input": "2024-07-09T12:57:50.339472Z",
     "iopub.status.busy": "2024-07-09T12:57:50.337932Z",
     "iopub.status.idle": "2024-07-09T12:57:50.864498Z",
     "shell.execute_reply": "2024-07-09T12:57:50.863477Z",
     "shell.execute_reply.started": "2024-07-09T12:57:50.339345Z"
    }
   },
   "outputs": [
    {
     "name": "stdout",
     "output_type": "stream",
     "text": [
      "Accuracy: 99.13%\n",
      "Naive Bayes classification (CPU) took: 0.39 sec\n"
     ]
    }
   ],
   "source": [
    "startTimeCPU = time()\n",
    "predictionsCPU = cpu_model.predict(test_features)\n",
    "elapsedTimeCPU = int((time() - startTimeCPU) * 100) / 100\n",
    "\n",
    "print(\"Accuracy: \" + str(int(metrics.accuracy_score(test_labels, predictionsCPU) * 10000) / 100) + \"%\")\n",
    "print(\"Naive Bayes classification (CPU) took: \" + str(elapsedTimeCPU) + \" sec\")"
   ]
  },
  {
   "cell_type": "markdown",
   "metadata": {},
   "source": [
    "### Speedup Calculation"
   ]
  },
  {
   "cell_type": "code",
   "execution_count": 8,
   "metadata": {
    "execution": {
     "iopub.execute_input": "2024-07-09T12:57:50.865808Z",
     "iopub.status.busy": "2024-07-09T12:57:50.865599Z",
     "iopub.status.idle": "2024-07-09T12:57:50.871854Z",
     "shell.execute_reply": "2024-07-09T12:57:50.870913Z",
     "shell.execute_reply.started": "2024-07-09T12:57:50.865784Z"
    },
    "tags": []
   },
   "outputs": [
    {
     "name": "stdout",
     "output_type": "stream",
     "text": [
      "Speedup: 6.5\n"
     ]
    }
   ],
   "source": [
    "speedup = int(elapsedTimeCPU / elapsedTime * 100) / 100\n",
    "print(\"Speedup: \" + str(speedup))"
   ]
  },
  {
   "cell_type": "code",
   "execution_count": 18,
   "metadata": {
    "execution": {
     "iopub.execute_input": "2024-07-09T13:13:25.734423Z",
     "iopub.status.busy": "2024-07-09T13:13:25.732754Z",
     "iopub.status.idle": "2024-07-09T13:13:25.758179Z",
     "shell.execute_reply": "2024-07-09T13:13:25.756367Z",
     "shell.execute_reply.started": "2024-07-09T13:13:25.734330Z"
    },
    "tags": []
   },
   "outputs": [],
   "source": [
    "def naive_bayes(samples, features, classes):\n",
    "    \n",
    "    X, y = datasets.make_classification(n_samples = samples, n_features = features, n_informative = 400, n_redundant = 50,\n",
    "                                    n_repeated = 50, n_classes = classes, class_sep = 10.0, random_state = 0)\n",
    "    \n",
    "    # Samples used for training the model\n",
    "    train_samples = int(0.1 * samples)\n",
    "\n",
    "    train_labels = y[:train_samples]\n",
    "    train_features = X[:train_samples]\n",
    "    print(\"Train data shape:\\n\\tLabels: \" + str(train_labels.shape) + \"\\n\\tFeatures: \" + str(train_features.shape))\n",
    "\n",
    "    test_labels = y[train_samples:]\n",
    "    test_features = X[train_samples:]\n",
    "    print(\"Test data shape:\\n\\tLabels: \" + str(test_labels.shape) + \"\\n\\tFeatures: \" + str(test_features.shape))\n",
    "    \n",
    "    nb = GaussianNB()\n",
    "\n",
    "    startTime = time()\n",
    "    nb_model = nb.fit(train_features, train_labels)\n",
    "    elapsedTime = int((time() - startTime) * 100) / 100\n",
    "\n",
    "    print(\"Naive Bayes training (CPU) took: \" + str(elapsedTime) + \" sec\")\n",
    "    \n",
    "    startTime = time()\n",
    "    predictions = nb_model.predict(test_features)\n",
    "    elapsedTime = int((time() - startTime) * 100) / 100\n",
    "\n",
    "    print(\"Accuracy: \" + str(int(metrics.accuracy_score(test_labels, predictions) * 10000) / 100) + \"%\")\n",
    "    print(\"Naive Bayes classification (FPGA) took: \" + str(elapsedTime) + \" sec\")\n",
    "    \n",
    "    cpuNB = OriginalNB()\n",
    "\n",
    "    cpu_model = cpuNB.fit(train_features, train_labels)\n",
    "    \n",
    "    startTimeCPU = time()\n",
    "    predictionsCPU = cpu_model.predict(test_features)\n",
    "    elapsedTimeCPU = int((time() - startTimeCPU) * 100) / 100\n",
    "\n",
    "    print(\"Accuracy: \" + str(int(metrics.accuracy_score(test_labels, predictionsCPU) * 10000) / 100) + \"%\")\n",
    "    print(\"Naive Bayes classification (CPU) took: \" + str(elapsedTimeCPU) + \" sec\")\n",
    "    \n",
    "    speedup = int(elapsedTimeCPU / elapsedTime * 100) / 100\n",
    "    print(\"Speedup: \" + str(speedup))\n",
    "    \n",
    "    return elapsedTime, elapsedTimeCPU, speedup\n",
    "    "
   ]
  },
  {
   "cell_type": "code",
   "execution_count": 19,
   "metadata": {
    "execution": {
     "iopub.execute_input": "2024-07-09T13:13:26.728713Z",
     "iopub.status.busy": "2024-07-09T13:13:26.728048Z",
     "iopub.status.idle": "2024-07-09T13:20:33.339293Z",
     "shell.execute_reply": "2024-07-09T13:20:33.338142Z",
     "shell.execute_reply.started": "2024-07-09T13:13:26.728664Z"
    },
    "tags": []
   },
   "outputs": [
    {
     "name": "stderr",
     "output_type": "stream",
     "text": [
      "  0%|          | 0/9 [00:00<?, ?it/s]"
     ]
    },
    {
     "name": "stdout",
     "output_type": "stream",
     "text": [
      "samples = 100000, features = 500, classes = 10\n",
      "Train data shape:\n",
      "\tLabels: (10000,)\n",
      "\tFeatures: (10000, 500)\n",
      "Test data shape:\n",
      "\tLabels: (90000,)\n",
      "\tFeatures: (90000, 500)\n",
      "Naive Bayes training (CPU) took: 0.09 sec\n",
      "Accuracy: 99.09%\n",
      "Naive Bayes classification (FPGA) took: 0.26 sec\n"
     ]
    },
    {
     "name": "stderr",
     "output_type": "stream",
     "text": [
      " 11%|█         | 1/9 [00:11<01:31, 11.46s/it]"
     ]
    },
    {
     "name": "stdout",
     "output_type": "stream",
     "text": [
      "Accuracy: 99.09%\n",
      "Naive Bayes classification (CPU) took: 5.3 sec\n",
      "Speedup: 20.38\n",
      "-------------------------------------------------------------------\n",
      "samples = 100000, features = 500, classes = 35\n",
      "Train data shape:\n",
      "\tLabels: (10000,)\n",
      "\tFeatures: (10000, 500)\n",
      "Test data shape:\n",
      "\tLabels: (90000,)\n",
      "\tFeatures: (90000, 500)\n",
      "Naive Bayes training (CPU) took: 0.09 sec\n",
      "Accuracy: 99.08%\n",
      "Naive Bayes classification (FPGA) took: 0.3 sec\n"
     ]
    },
    {
     "name": "stderr",
     "output_type": "stream",
     "text": [
      " 22%|██▏       | 2/9 [00:37<02:18, 19.83s/it]"
     ]
    },
    {
     "name": "stdout",
     "output_type": "stream",
     "text": [
      "Accuracy: 99.08%\n",
      "Naive Bayes classification (CPU) took: 19.08 sec\n",
      "Speedup: 63.59\n",
      "-------------------------------------------------------------------\n",
      "samples = 100000, features = 500, classes = 60\n",
      "Train data shape:\n",
      "\tLabels: (10000,)\n",
      "\tFeatures: (10000, 500)\n",
      "Test data shape:\n",
      "\tLabels: (90000,)\n",
      "\tFeatures: (90000, 500)\n",
      "Naive Bayes training (CPU) took: 0.12 sec\n",
      "Accuracy: 98.96%\n",
      "Naive Bayes classification (FPGA) took: 0.35 sec\n"
     ]
    },
    {
     "name": "stderr",
     "output_type": "stream",
     "text": [
      " 33%|███▎      | 3/9 [01:13<02:42, 27.16s/it]"
     ]
    },
    {
     "name": "stdout",
     "output_type": "stream",
     "text": [
      "Accuracy: 98.96%\n",
      "Naive Bayes classification (CPU) took: 29.55 sec\n",
      "Speedup: 84.42\n",
      "-------------------------------------------------------------------\n",
      "samples = 100000, features = 1000, classes = 10\n",
      "Train data shape:\n",
      "\tLabels: (10000,)\n",
      "\tFeatures: (10000, 1000)\n",
      "Test data shape:\n",
      "\tLabels: (90000,)\n",
      "\tFeatures: (90000, 1000)\n",
      "Naive Bayes training (CPU) took: 0.17 sec\n",
      "Accuracy: 99.06%\n",
      "Naive Bayes classification (FPGA) took: 0.38 sec\n"
     ]
    },
    {
     "name": "stderr",
     "output_type": "stream",
     "text": [
      " 44%|████▍     | 4/9 [01:30<01:56, 23.20s/it]"
     ]
    },
    {
     "name": "stdout",
     "output_type": "stream",
     "text": [
      "Accuracy: 99.06%\n",
      "Naive Bayes classification (CPU) took: 8.48 sec\n",
      "Speedup: 22.31\n",
      "-------------------------------------------------------------------\n",
      "samples = 100000, features = 1000, classes = 35\n",
      "Train data shape:\n",
      "\tLabels: (10000,)\n",
      "\tFeatures: (10000, 1000)\n",
      "Test data shape:\n",
      "\tLabels: (90000,)\n",
      "\tFeatures: (90000, 1000)\n",
      "Naive Bayes training (CPU) took: 0.15 sec\n",
      "Accuracy: 98.97%\n",
      "Naive Bayes classification (FPGA) took: 0.4 sec\n"
     ]
    },
    {
     "name": "stderr",
     "output_type": "stream",
     "text": [
      " 56%|█████▌    | 5/9 [02:09<01:56, 29.13s/it]"
     ]
    },
    {
     "name": "stdout",
     "output_type": "stream",
     "text": [
      "Accuracy: 98.97%\n",
      "Naive Bayes classification (CPU) took: 30.13 sec\n",
      "Speedup: 75.32\n",
      "-------------------------------------------------------------------\n",
      "samples = 100000, features = 1000, classes = 60\n",
      "Train data shape:\n",
      "\tLabels: (10000,)\n",
      "\tFeatures: (10000, 1000)\n",
      "Test data shape:\n",
      "\tLabels: (90000,)\n",
      "\tFeatures: (90000, 1000)\n",
      "Naive Bayes training (CPU) took: 0.15 sec\n",
      "Accuracy: 99.0%\n",
      "Naive Bayes classification (FPGA) took: 0.43 sec\n"
     ]
    },
    {
     "name": "stderr",
     "output_type": "stream",
     "text": [
      " 67%|██████▋   | 6/9 [03:11<02:00, 40.31s/it]"
     ]
    },
    {
     "name": "stdout",
     "output_type": "stream",
     "text": [
      "Accuracy: 99.0%\n",
      "Naive Bayes classification (CPU) took: 53.47 sec\n",
      "Speedup: 124.34\n",
      "-------------------------------------------------------------------\n",
      "samples = 100000, features = 2000, classes = 10\n",
      "Train data shape:\n",
      "\tLabels: (10000,)\n",
      "\tFeatures: (10000, 2000)\n",
      "Test data shape:\n",
      "\tLabels: (90000,)\n",
      "\tFeatures: (90000, 2000)\n",
      "Naive Bayes training (CPU) took: 0.34 sec\n",
      "Accuracy: 99.07%\n",
      "Naive Bayes classification (FPGA) took: 0.72 sec\n"
     ]
    },
    {
     "name": "stderr",
     "output_type": "stream",
     "text": [
      " 78%|███████▊  | 7/9 [03:44<01:15, 37.75s/it]"
     ]
    },
    {
     "name": "stdout",
     "output_type": "stream",
     "text": [
      "Accuracy: 99.07%\n",
      "Naive Bayes classification (CPU) took: 16.27 sec\n",
      "Speedup: 22.59\n",
      "-------------------------------------------------------------------\n",
      "samples = 100000, features = 2000, classes = 35\n",
      "Train data shape:\n",
      "\tLabels: (10000,)\n",
      "\tFeatures: (10000, 2000)\n",
      "Test data shape:\n",
      "\tLabels: (90000,)\n",
      "\tFeatures: (90000, 2000)\n",
      "Naive Bayes training (CPU) took: 0.33 sec\n",
      "Accuracy: 99.02%\n",
      "Naive Bayes classification (FPGA) took: 0.77 sec\n"
     ]
    },
    {
     "name": "stderr",
     "output_type": "stream",
     "text": [
      " 89%|████████▉ | 8/9 [05:03<00:50, 50.91s/it]"
     ]
    },
    {
     "name": "stdout",
     "output_type": "stream",
     "text": [
      "Accuracy: 99.02%\n",
      "Naive Bayes classification (CPU) took: 63.98 sec\n",
      "Speedup: 83.09\n",
      "-------------------------------------------------------------------\n",
      "samples = 100000, features = 2000, classes = 60\n",
      "Train data shape:\n",
      "\tLabels: (10000,)\n",
      "\tFeatures: (10000, 2000)\n",
      "Test data shape:\n",
      "\tLabels: (90000,)\n",
      "\tFeatures: (90000, 2000)\n",
      "Naive Bayes training (CPU) took: 0.32 sec\n",
      "Accuracy: 99.05%\n",
      "Naive Bayes classification (FPGA) took: 0.88 sec\n"
     ]
    },
    {
     "name": "stderr",
     "output_type": "stream",
     "text": [
      "100%|██████████| 9/9 [07:05<00:00, 47.31s/it]"
     ]
    },
    {
     "name": "stdout",
     "output_type": "stream",
     "text": [
      "Accuracy: 99.05%\n",
      "Naive Bayes classification (CPU) took: 106.34 sec\n",
      "Speedup: 120.84\n",
      "-------------------------------------------------------------------\n"
     ]
    },
    {
     "name": "stderr",
     "output_type": "stream",
     "text": [
      "\n"
     ]
    }
   ],
   "source": [
    "import itertools\n",
    "from tqdm import tqdm\n",
    "\n",
    "samples_list  = [100000]\n",
    "features_list = [500, 1000, 2000]\n",
    "classes       = [10, 35, 60]\n",
    "\n",
    "combinations = list(itertools.product(samples_list, features_list, classes))\n",
    "\n",
    "timesCPU  = {}\n",
    "timesFPGA = {}\n",
    "speedups  = {}\n",
    "for samples, features, classes in tqdm(combinations):\n",
    "    print(f'samples = {samples}, features = {features}, classes = {classes}')\n",
    "    timeFPGA, timeCPU, speedup = naive_bayes(samples, features, classes)\n",
    "    timesCPU[(samples, features, classes)]  = timeCPU\n",
    "    timesFPGA[(samples, features, classes)] = timeFPGA\n",
    "    speedups[(samples, features, classes)]  = speedup\n",
    "    print('-------------------------------------------------------------------')"
   ]
  },
  {
   "cell_type": "code",
   "execution_count": 20,
   "metadata": {
    "execution": {
     "iopub.execute_input": "2024-07-09T13:20:46.730752Z",
     "iopub.status.busy": "2024-07-09T13:20:46.729079Z",
     "iopub.status.idle": "2024-07-09T13:20:46.743721Z",
     "shell.execute_reply": "2024-07-09T13:20:46.742224Z",
     "shell.execute_reply.started": "2024-07-09T13:20:46.730665Z"
    }
   },
   "outputs": [
    {
     "data": {
      "text/plain": [
       "{(100000, 500, 10): 20.38,\n",
       " (100000, 500, 35): 63.59,\n",
       " (100000, 500, 60): 84.42,\n",
       " (100000, 1000, 10): 22.31,\n",
       " (100000, 1000, 35): 75.32,\n",
       " (100000, 1000, 60): 124.34,\n",
       " (100000, 2000, 10): 22.59,\n",
       " (100000, 2000, 35): 83.09,\n",
       " (100000, 2000, 60): 120.84}"
      ]
     },
     "execution_count": 20,
     "metadata": {},
     "output_type": "execute_result"
    }
   ],
   "source": [
    "speedups"
   ]
  },
  {
   "cell_type": "code",
   "execution_count": 32,
   "metadata": {
    "execution": {
     "iopub.execute_input": "2024-07-09T13:44:20.729555Z",
     "iopub.status.busy": "2024-07-09T13:44:20.728835Z",
     "iopub.status.idle": "2024-07-09T13:44:20.907347Z",
     "shell.execute_reply": "2024-07-09T13:44:20.905919Z",
     "shell.execute_reply.started": "2024-07-09T13:44:20.729473Z"
    },
    "tags": []
   },
   "outputs": [
    {
     "data": {
      "image/png": "[encoded data removed]",
      "text/plain": [
       "<Figure size 720x576 with 1 Axes>"
      ]
     },
     "metadata": {},
     "output_type": "display_data"
    }
   ],
   "source": [
    "import seaborn as sns\n",
    "import matplotlib.pyplot as plt\n",
    "\n",
    "plot1values = [speedups[key] for key in speedups if key[0] == 100000 and key[-1] == 60]\n",
    "plot1labels = [str(f) for f in features_list]\n",
    "\n",
    "sns.set(style=\"whitegrid\")\n",
    "plt.figure(figsize=(10, 8))\n",
    "palette = sns.color_palette(\"viridis\", len(plot1values))\n",
    "\n",
    "sns.barplot(x=plot1labels, y=plot1values, palette=palette)\n",
    "\n",
    "plt.xlabel('# Features', fontsize=14, fontweight='bold')\n",
    "plt.ylabel('Speedup', fontsize=14, fontweight='bold')\n",
    "plt.title('Speedup vs # Features Barplot', fontsize=16, fontweight='bold')\n",
    "\n",
    "plt.xticks(fontsize=12)\n",
    "plt.yticks(fontsize=12)\n",
    "\n",
    "plt.grid(axis='y', linestyle='--', linewidth=0.7)\n",
    "\n",
    "sns.despine()\n",
    "plt.show()"
   ]
  },
  {
   "cell_type": "code",
   "execution_count": 36,
   "metadata": {
    "execution": {
     "iopub.execute_input": "2024-07-09T13:45:54.371904Z",
     "iopub.status.busy": "2024-07-09T13:45:54.371211Z",
     "iopub.status.idle": "2024-07-09T13:45:54.549305Z",
     "shell.execute_reply": "2024-07-09T13:45:54.548382Z",
     "shell.execute_reply.started": "2024-07-09T13:45:54.371822Z"
    },
    "tags": []
   },
   "outputs": [
    {
     "data": {
      "image/png": "[encoded data removed]",
      "text/plain": [
       "<Figure size 720x576 with 1 Axes>"
      ]
     },
     "metadata": {},
     "output_type": "display_data"
    }
   ],
   "source": [
    "plot2values = [speedups[key] for key in speedups if key[0] == 100000 and key[1] == 2000]\n",
    "plot2labels = [10, 35, 60]\n",
    "\n",
    "sns.set(style=\"whitegrid\")\n",
    "plt.figure(figsize=(10, 8))\n",
    "palette = sns.color_palette(\"viridis\", len(plot1values))\n",
    "\n",
    "sns.barplot(x=plot2labels, y=plot2values, palette=palette)\n",
    "\n",
    "plt.xlabel('# Classes', fontsize=14, fontweight='bold')\n",
    "plt.ylabel('Speedup', fontsize=14, fontweight='bold')\n",
    "plt.title('Speedup vs # Classes Barplot', fontsize=16, fontweight='bold')\n",
    "\n",
    "plt.xticks(fontsize=12)\n",
    "plt.yticks(fontsize=12)\n",
    "\n",
    "plt.grid(axis='y', linestyle='--', linewidth=0.7)\n",
    "\n",
    "sns.despine()\n",
    "plt.show()"
   ]
  },
  {
   "cell_type": "code",
   "execution_count": 35,
   "metadata": {
    "execution": {
     "iopub.execute_input": "2024-07-09T13:45:24.071531Z",
     "iopub.status.busy": "2024-07-09T13:45:24.070171Z",
     "iopub.status.idle": "2024-07-09T13:45:24.083476Z",
     "shell.execute_reply": "2024-07-09T13:45:24.081851Z",
     "shell.execute_reply.started": "2024-07-09T13:45:24.071454Z"
    }
   },
   "outputs": [
    {
     "data": {
      "text/plain": [
       "60"
      ]
     },
     "execution_count": 35,
     "metadata": {},
     "output_type": "execute_result"
    }
   ],
   "source": []
  },
  {
   "cell_type": "code",
   "execution_count": null,
   "metadata": {},
   "outputs": [],
   "source": []
  }
 ],
 "metadata": {
  "kernelspec": {
   "display_name": "Python 3 (ipykernel)",
   "language": "python",
   "name": "python3"
  },
  "language_info": {
   "codemirror_mode": {
    "name": "ipython",
    "version": 3
   },
   "file_extension": ".py",
   "mimetype": "text/x-python",
   "name": "python",
   "nbconvert_exporter": "python",
   "pygments_lexer": "ipython3",
   "version": "3.9.10"
  }
 },
 "nbformat": 4,
 "nbformat_minor": 4
}
