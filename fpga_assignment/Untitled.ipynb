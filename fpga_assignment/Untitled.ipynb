{
 "cells": [
  {
   "cell_type": "code",
   "execution_count": 1,
   "id": "f0fa334e-aa2f-4ae9-bdf2-e7e9c8712364",
   "metadata": {
    "execution": {
     "iopub.execute_input": "2024-07-09T11:19:17.055040Z",
     "iopub.status.busy": "2024-07-09T11:19:17.053530Z",
     "iopub.status.idle": "2024-07-09T11:19:17.209548Z",
     "shell.execute_reply": "2024-07-09T11:19:17.203688Z",
     "shell.execute_reply.started": "2024-07-09T11:19:17.054968Z"
    }
   },
   "outputs": [],
   "source": [
    "import inaccel.coral as inaccel\n",
    "import numpy as np"
   ]
  },
  {
   "cell_type": "code",
   "execution_count": 31,
   "id": "8941b79f-5fb4-4410-a167-21b3c957d495",
   "metadata": {
    "execution": {
     "iopub.execute_input": "2024-07-09T11:59:13.023134Z",
     "iopub.status.busy": "2024-07-09T11:59:13.021352Z",
     "iopub.status.idle": "2024-07-09T11:59:13.084676Z",
     "shell.execute_reply": "2024-07-09T11:59:13.083414Z",
     "shell.execute_reply.started": "2024-07-09T11:59:13.023046Z"
    },
    "tags": []
   },
   "outputs": [],
   "source": [
    "#make sure that you create a scalar with numpy\n",
    "size = np.int32(1024 * 1024)\n",
    "\n",
    "# Allocate four vectors & Initialize input vectors with random values\n",
    "with inaccel.allocator:\n",
    "    a = np.random.rand(size).astype(np.float32)\n",
    "    b = np.random.rand(size).astype(np.float32)\n",
    "    b_neg = -b\n",
    "    c_add = np.ndarray(size, dtype = np.float32)\n",
    "    c_sub = np.ndarray(size, dtype = np.float32)"
   ]
  },
  {
   "cell_type": "code",
   "execution_count": 12,
   "id": "85cbd203-d7a4-4b3f-a575-b289b48254a8",
   "metadata": {
    "execution": {
     "iopub.execute_input": "2024-07-09T11:37:14.993691Z",
     "iopub.status.busy": "2024-07-09T11:37:14.991965Z",
     "iopub.status.idle": "2024-07-09T11:37:23.101446Z",
     "shell.execute_reply": "2024-07-09T11:37:23.100519Z",
     "shell.execute_reply.started": "2024-07-09T11:37:14.993604Z"
    },
    "tags": []
   },
   "outputs": [
    {
     "name": "stdout",
     "output_type": "stream",
     "text": [
      "997 ns ± 10.2 ns per loop (mean ± std. dev. of 7 runs, 1,000,000 loops each)\n"
     ]
    }
   ],
   "source": [
    "# Send a request for \"addition\" accelerator to the Coral FPGA Resource Manager\n",
    "# Request arguments must comply with the accelerator's specific argument list\n",
    "vadd = inaccel.request(\"vector.addition\")\n",
    "vadd.arg(a).arg(b).arg(c_add).arg(size)\n",
    "obj = inaccel.submit(vadd)\n",
    "fpga_time = %timeit -o obj.result()"
   ]
  },
  {
   "cell_type": "code",
   "execution_count": 13,
   "id": "63425f70-13d3-400f-8606-8a9ebe855d0f",
   "metadata": {
    "execution": {
     "iopub.execute_input": "2024-07-09T11:37:29.111501Z",
     "iopub.status.busy": "2024-07-09T11:37:29.110130Z",
     "iopub.status.idle": "2024-07-09T11:37:29.128587Z",
     "shell.execute_reply": "2024-07-09T11:37:29.126376Z",
     "shell.execute_reply.started": "2024-07-09T11:37:29.111435Z"
    },
    "tags": []
   },
   "outputs": [
    {
     "name": "stdout",
     "output_type": "stream",
     "text": [
      "Results: RIGHT!\n"
     ]
    }
   ],
   "source": [
    "# Check output vectors\n",
    "valid = True\n",
    "\n",
    "if not np.array_equal(c_add, a + b):\n",
    "    valid = False\n",
    "\n",
    "if valid:\n",
    "    print('Results: RIGHT!')\n",
    "else:\n",
    "    print('Results: WRONG!')"
   ]
  },
  {
   "cell_type": "code",
   "execution_count": 14,
   "id": "39eb80ca-6555-4b63-ace8-f6e6af2e29fc",
   "metadata": {
    "execution": {
     "iopub.execute_input": "2024-07-09T11:37:31.032480Z",
     "iopub.status.busy": "2024-07-09T11:37:31.031397Z",
     "iopub.status.idle": "2024-07-09T11:37:40.879660Z",
     "shell.execute_reply": "2024-07-09T11:37:40.878270Z",
     "shell.execute_reply.started": "2024-07-09T11:37:31.032425Z"
    },
    "tags": []
   },
   "outputs": [
    {
     "name": "stdout",
     "output_type": "stream",
     "text": [
      "1.21 ms ± 76.4 µs per loop (mean ± std. dev. of 7 runs, 1,000 loops each)\n"
     ]
    }
   ],
   "source": [
    "# addition using CPU\n",
    "cpu_time = %timeit -o cpu_add = a + b"
   ]
  },
  {
   "cell_type": "code",
   "execution_count": 17,
   "id": "3c4e72ad-4605-44ea-887c-303777e32ff2",
   "metadata": {
    "execution": {
     "iopub.execute_input": "2024-07-09T11:43:07.258446Z",
     "iopub.status.busy": "2024-07-09T11:43:07.257631Z",
     "iopub.status.idle": "2024-07-09T11:43:07.268576Z",
     "shell.execute_reply": "2024-07-09T11:43:07.266201Z",
     "shell.execute_reply.started": "2024-07-09T11:43:07.258397Z"
    },
    "tags": []
   },
   "outputs": [
    {
     "name": "stdout",
     "output_type": "stream",
     "text": [
      "Addition Speedup = 1210.1849844677279\n"
     ]
    }
   ],
   "source": [
    "S = cpu_time.average/fpga_time.average\n",
    "print('Addition Speedup =', S)"
   ]
  },
  {
   "cell_type": "code",
   "execution_count": 32,
   "id": "712eaf73-b54c-479e-a411-7bd55e783697",
   "metadata": {
    "execution": {
     "iopub.execute_input": "2024-07-09T11:59:29.665969Z",
     "iopub.status.busy": "2024-07-09T11:59:29.665074Z",
     "iopub.status.idle": "2024-07-09T11:59:37.589857Z",
     "shell.execute_reply": "2024-07-09T11:59:37.587827Z",
     "shell.execute_reply.started": "2024-07-09T11:59:29.665883Z"
    },
    "tags": []
   },
   "outputs": [
    {
     "name": "stdout",
     "output_type": "stream",
     "text": [
      "965 ns ± 17.8 ns per loop (mean ± std. dev. of 7 runs, 1,000,000 loops each)\n"
     ]
    }
   ],
   "source": [
    "# Subtraction\n",
    "vsub = inaccel.request(\"vector.addition\")\n",
    "vsub.arg(a).arg(b_neg).arg(c_sub).arg(size)\n",
    "obj = inaccel.submit(vsub)\n",
    "fpga_time = %timeit -o obj.result()"
   ]
  },
  {
   "cell_type": "code",
   "execution_count": 33,
   "id": "d8e16414-4ac9-4b6c-91ae-6835d480ae83",
   "metadata": {
    "execution": {
     "iopub.execute_input": "2024-07-09T11:59:59.629445Z",
     "iopub.status.busy": "2024-07-09T11:59:59.627932Z",
     "iopub.status.idle": "2024-07-09T11:59:59.641879Z",
     "shell.execute_reply": "2024-07-09T11:59:59.640740Z",
     "shell.execute_reply.started": "2024-07-09T11:59:59.629373Z"
    },
    "tags": []
   },
   "outputs": [
    {
     "name": "stdout",
     "output_type": "stream",
     "text": [
      "Results: RIGHT!\n"
     ]
    }
   ],
   "source": [
    "valid = True\n",
    "\n",
    "if not np.array_equal(c_sub, a - b):\n",
    "    valid = False\n",
    "\n",
    "if valid:\n",
    "    print('Results: RIGHT!')\n",
    "else:\n",
    "    print('Results: WRONG!')"
   ]
  },
  {
   "cell_type": "code",
   "execution_count": 34,
   "id": "76eb0edc-b92a-409c-afde-0b22bdd8abeb",
   "metadata": {
    "execution": {
     "iopub.execute_input": "2024-07-09T12:00:25.346573Z",
     "iopub.status.busy": "2024-07-09T12:00:25.344770Z",
     "iopub.status.idle": "2024-07-09T12:00:34.261605Z",
     "shell.execute_reply": "2024-07-09T12:00:34.260328Z",
     "shell.execute_reply.started": "2024-07-09T12:00:25.346495Z"
    }
   },
   "outputs": [
    {
     "name": "stdout",
     "output_type": "stream",
     "text": [
      "1.1 ms ± 22.7 µs per loop (mean ± std. dev. of 7 runs, 1,000 loops each)\n"
     ]
    }
   ],
   "source": [
    "# subtraction using CPU\n",
    "cpu_time = %timeit -o cpu_sub = a - b"
   ]
  },
  {
   "cell_type": "code",
   "execution_count": 35,
   "id": "cd38f6db-2489-4aec-b7f4-e710627b97fb",
   "metadata": {
    "execution": {
     "iopub.execute_input": "2024-07-09T12:00:52.628395Z",
     "iopub.status.busy": "2024-07-09T12:00:52.627638Z",
     "iopub.status.idle": "2024-07-09T12:00:52.639266Z",
     "shell.execute_reply": "2024-07-09T12:00:52.637490Z",
     "shell.execute_reply.started": "2024-07-09T12:00:52.628262Z"
    }
   },
   "outputs": [
    {
     "name": "stdout",
     "output_type": "stream",
     "text": [
      "Subtraction Speedup = 1141.5350360572268\n"
     ]
    }
   ],
   "source": [
    "S = cpu_time.average/fpga_time.average\n",
    "print('Subtraction Speedup =', S)"
   ]
  },
  {
   "cell_type": "code",
   "execution_count": null,
   "id": "1f8fbb99-9ab8-4a80-b515-90f33b59fa32",
   "metadata": {},
   "outputs": [],
   "source": []
  }
 ],
 "metadata": {
  "kernelspec": {
   "display_name": "Python 3 (ipykernel)",
   "language": "python",
   "name": "python3"
  },
  "language_info": {
   "codemirror_mode": {
    "name": "ipython",
    "version": 3
   },
   "file_extension": ".py",
   "mimetype": "text/x-python",
   "name": "python",
   "nbconvert_exporter": "python",
   "pygments_lexer": "ipython3",
   "version": "3.9.10"
  }
 },
 "nbformat": 4,
 "nbformat_minor": 5
}
